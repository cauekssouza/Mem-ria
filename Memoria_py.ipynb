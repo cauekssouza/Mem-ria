{
  "nbformat": 4,
  "nbformat_minor": 0,
  "metadata": {
    "colab": {
      "provenance": [],
      "authorship_tag": "ABX9TyONFuBgbHbyj5ao64kEsawB",
      "include_colab_link": true
    },
    "kernelspec": {
      "name": "python3",
      "display_name": "Python 3"
    },
    "language_info": {
      "name": "python"
    }
  },
  "cells": [
    {
      "cell_type": "markdown",
      "metadata": {
        "id": "view-in-github",
        "colab_type": "text"
      },
      "source": [
        "<a href=\"https://colab.research.google.com/github/cauekssouza/Mem-ria/blob/main/Memoria_py.ipynb\" target=\"_parent\"><img src=\"https://colab.research.google.com/assets/colab-badge.svg\" alt=\"Open In Colab\"/></a>"
      ]
    },
    {
      "cell_type": "code",
      "source": [
        "!pip install memory_profiler"
      ],
      "metadata": {
        "colab": {
          "base_uri": "https://localhost:8080/"
        },
        "id": "v-TNF29Y1WkN",
        "outputId": "2af5663d-aa11-46ae-fdec-a6a808915fb8"
      },
      "execution_count": null,
      "outputs": [
        {
          "output_type": "stream",
          "name": "stdout",
          "text": [
            "Collecting memory_profiler\n",
            "  Downloading memory_profiler-0.61.0-py3-none-any.whl.metadata (20 kB)\n",
            "Requirement already satisfied: psutil in /usr/local/lib/python3.11/dist-packages (from memory_profiler) (5.9.5)\n",
            "Downloading memory_profiler-0.61.0-py3-none-any.whl (31 kB)\n",
            "Installing collected packages: memory_profiler\n",
            "Successfully installed memory_profiler-0.61.0\n"
          ]
        }
      ]
    },
    {
      "cell_type": "code",
      "source": [
        "import numpy as np\n",
        "import time\n",
        "import memory_profiler\n",
        "import matplotlib.pyplot as plt\n",
        "import sys\n",
        "import gc\n",
        "from decimal import Decimal, getcontext\n",
        "\n",
        "# Configura a precisão para 100 casas decimais\n",
        "getcontext().prec = 102\n",
        "\n",
        "def medir_memoria_tempo(func, *args):\n",
        "    gc.collect()  # Força a coleta de lixo antes da medição\n",
        "    memoria_antes = memory_profiler.memory_usage()[0]\n",
        "    tempo_inicio = time.perf_counter_ns()\n",
        "    resultado = func(*args)\n",
        "    tempo_fim = time.perf_counter_ns()\n",
        "    memoria_depois = memory_profiler.memory_usage()[0]\n",
        "    memoria_usada = memoria_depois - memoria_antes\n",
        "    return resultado, (tempo_fim - tempo_inicio), memoria_usada\n",
        "\n",
        "def criar_array_aleatorio():\n",
        "    return np.random.choice(list(\"ABCDEFGHIJKLMNOPQRSTUVWXYZabcdefghijklmnopqrstuvwxyz\"), size=10000000)\n",
        "\n",
        "def criar_lista_aleatoria():\n",
        "    return list(np.random.choice(list(\"ABCDEFGHIJKLMNOPQRSTUVWXYZabcdefghijklmnopqrstuvwxyz\"), size=10000000))\n",
        "\n",
        "def ordenar_array(arr):\n",
        "    return np.sort(arr)\n",
        "\n",
        "def ordenar_lista(lst):\n",
        "    return sorted(lst)\n",
        "\n",
        "def imprimir_array(arr):\n",
        "    sys.stdout = open('/dev/null', 'w')  # Suprime a saída para medir apenas tempo/memória\n",
        "    print(arr)\n",
        "    sys.stdout.close()\n",
        "    sys.stdout = sys.__stdout__  # Restaura a saída padrão\n",
        "\n",
        "def imprimir_lista(lst):\n",
        "    sys.stdout = open('/dev/null', 'w')  # Suprime a saída para medir apenas tempo/memória\n",
        "    print(lst)\n",
        "    sys.stdout.close()\n",
        "    sys.stdout = sys.__stdout__  # Restaura a saída padrão\n",
        "\n",
        "def calcular_pi(n_termos=1000000):\n",
        "    pi = Decimal(0)\n",
        "    for k in range(n_termos):\n",
        "        pi += Decimal((-1)**k) / Decimal(2*k + 1)\n",
        "    pi *= 4\n",
        "    return pi\n",
        "\n",
        "dados = {}\n",
        "\n",
        "# Medições para arrays NumPy\n",
        "dados['criar_array'] = medir_memoria_tempo(criar_array_aleatorio)\n",
        "dados['ordenar_array'] = medir_memoria_tempo(ordenar_array, dados['criar_array'][0])\n",
        "dados['imprimir_array'] = medir_memoria_tempo(imprimir_array, dados['criar_array'][0])\n",
        "\n",
        "# Medições para listas Python\n",
        "dados['criar_lista'] = medir_memoria_tempo(criar_lista_aleatoria)\n",
        "dados['ordenar_lista'] = medir_memoria_tempo(ordenar_lista, dados['criar_lista'][0])\n",
        "dados['imprimir_lista'] = medir_memoria_tempo(imprimir_lista, dados['criar_lista'][0])\n",
        "\n",
        "# Medição para cálculo de π\n",
        "dados['calcular_pi'] = medir_memoria_tempo(calcular_pi)\n",
        "\n",
        "# Exibição dos resultados\n",
        "for chave, (_, tempo_ns, memoria_dif) in dados.items():\n",
        "    print(f\"{chave}: Tempo = {tempo_ns / 1e6:.3f} ms, Memória = {memoria_dif:.6f} MiB\")\n",
        "\n",
        "# Gráficos comparativos\n",
        "tarefas = [\"Criar\", \"Ordenar\", \"Imprimir\"]\n",
        "valores_tempo = [dados[f'criar_array'][1], dados[f'ordenar_array'][1], dados[f'imprimir_array'][1],\n",
        "                 dados[f'criar_lista'][1], dados[f'ordenar_lista'][1], dados[f'imprimir_lista'][1]]\n",
        "valores_tempo = [t / 1e6 for t in valores_tempo]  # Convertendo para milissegundos\n",
        "\n",
        "valores_memoria = [dados[f'criar_array'][2], dados[f'ordenar_array'][2], dados[f'imprimir_array'][2],\n",
        "                   dados[f'criar_lista'][2], dados[f'ordenar_lista'][2], dados[f'imprimir_lista'][2]]\n",
        "\n",
        "rotulos = [\"Array (Criar)\", \"Array (Ordenar)\", \"Array (Imprimir)\",\n",
        "           \"Lista (Criar)\", \"Lista (Ordenar)\", \"Lista (Imprimir)\"]\n",
        "\n",
        "plt.figure(figsize=(12, 5))\n",
        "plt.subplot(1, 2, 1)\n",
        "plt.bar(rotulos, valores_tempo, color=['blue', 'blue', 'blue', 'orange', 'orange', 'orange'])\n",
        "plt.ylabel(\"Tempo (ms)\")\n",
        "plt.title(\"Tempo de execução\")\n",
        "plt.xticks(rotation=45)\n",
        "\n",
        "plt.subplot(1, 2, 2)\n",
        "plt.bar(rotulos, valores_memoria, color=['blue', 'blue', 'blue', 'orange', 'orange', 'orange'])\n",
        "plt.ylabel(\"Memória (MiB)\")\n",
        "plt.title(\"Uso de Memória\")\n",
        "plt.xticks(rotation=45)\n",
        "\n",
        "plt.tight_layout()\n",
        "plt.show()\n"
      ],
      "metadata": {
        "id": "PNYdDR6gXj5h"
      },
      "execution_count": null,
      "outputs": []
    }
  ]
}